{
 "cells": [
  {
   "cell_type": "code",
   "execution_count": 1,
   "metadata": {},
   "outputs": [],
   "source": [
    "from ultralytics import YOLO"
   ]
  },
  {
   "cell_type": "code",
   "execution_count": 2,
   "metadata": {},
   "outputs": [],
   "source": [
    "# path_model = \"/home/dim/clone_repo/BrickSearch/data/model/yolo12x.pt\"\n",
    "\n",
    "# path_model = \"/home/dim/clone_repo/BrickSearch/data/model/yolo11x.pt\"\n",
    "\n",
    "# path_model = \"/home/dim/clone_repo/BrickSearch/data/model/yolo11n.pt\"\n",
    "\n",
    "# path_model = \"/home/dim/clone_repo/BrickSearch/data/model/yolo12n.pt\"\n",
    "\n",
    "path_model = \"/home/dim/clone_repo/BrickSearch/data/model/yolo12m.pt\""
   ]
  },
  {
   "cell_type": "code",
   "execution_count": null,
   "metadata": {},
   "outputs": [],
   "source": [
    "# Chargement du modele pré-entrainé\n",
    "model = YOLO(path_model)"
   ]
  },
  {
   "cell_type": "code",
   "execution_count": 4,
   "metadata": {},
   "outputs": [],
   "source": [
    "# Entrainement du modele avec le données labelisées \n",
    "path_dataYaml = \"/home/dim/clone_repo/BrickSearch/data/dataset/data.yaml\"\n",
    "path_model_output = \"/home/dim/clone_repo/BrickSearch/outputs/output_models\"\n",
    "model_name = \"No_name_model\" # nom du modele par défaut"
   ]
  },
  {
   "cell_type": "code",
   "execution_count": null,
   "metadata": {},
   "outputs": [],
   "source": [
    "\n",
    "# demande de saisir un nom de model pour l'entrainnement\n",
    "model_name_temp = input(\"Entrez le nom du modele : \")\n",
    "if model_name_temp != \"\":\n",
    "    model_name = model_name_temp\n",
    "    print(f\"Nom du modèle : {model_name}\")\n",
    "\n",
    "results = model.train( \n",
    "                            data=path_dataYaml, \n",
    "                            epochs=100,\n",
    "                            imgsz=640,\n",
    "                            device=\"0:cuda\",\n",
    "                            max_det=10,\n",
    "                            batch=10,\n",
    "                            iou= 0.5, \n",
    "                            # half=False,\n",
    "                            plots=True,\n",
    "                            project=path_model_output, \n",
    "                            name=model_name\n",
    "                        )\n"
   ]
  },
  {
   "cell_type": "code",
   "execution_count": 2,
   "metadata": {},
   "outputs": [
    {
     "name": "stdout",
     "output_type": "stream",
     "text": [
      "WARNING ⚠️ TensorRT requires GPU export, automatically assigning device=0\n",
      "Ultralytics 8.3.96 🚀 Python-3.13.1 torch-2.6.0+cu124 CUDA:0 (NVIDIA GeForce RTX 3060, 12288MiB)\n",
      "YOLOv12m summary (fused): 169 layers, 20,124,958 parameters, 0 gradients, 67.2 GFLOPs\n",
      "\n",
      "\u001b[34m\u001b[1mPyTorch:\u001b[0m starting from '/home/dim/clone_repo/BrickSearch/outputs/output_models/y12m_100_640_c_10_10_05/weights/best.pt' with input shape (1, 3, 640, 640) BCHW and output shape(s) (1, 30, 8400) (38.9 MB)\n",
      "\n",
      "\u001b[34m\u001b[1mONNX:\u001b[0m starting export with onnx 1.17.0 opset 19...\n",
      "\u001b[34m\u001b[1mONNX:\u001b[0m slimming with onnxslim 0.1.49...\n",
      "\u001b[34m\u001b[1mONNX:\u001b[0m export success ✅ 21.4s, saved as '/home/dim/clone_repo/BrickSearch/outputs/output_models/y12m_100_640_c_10_10_05/weights/best.onnx' (77.0 MB)\n",
      "\n",
      "\u001b[34m\u001b[1mTensorRT:\u001b[0m starting export with TensorRT 10.9.0.34...\n",
      "[03/27/2025-17:30:59] [TRT] [I] [MemUsageChange] Init CUDA: CPU -2, GPU +0, now: CPU 1578, GPU 1424 (MiB)\n",
      "[03/27/2025-17:31:04] [TRT] [I] [MemUsageChange] Init builder kernel library: CPU +2588, GPU +412, now: CPU 3964, GPU 1836 (MiB)\n",
      "[03/27/2025-17:31:04] [TRT] [I] ----------------------------------------------------------------\n",
      "[03/27/2025-17:31:04] [TRT] [I] Input filename:   /home/dim/clone_repo/BrickSearch/outputs/output_models/y12m_100_640_c_10_10_05/weights/best.onnx\n",
      "[03/27/2025-17:31:04] [TRT] [I] ONNX IR version:  0.0.9\n",
      "[03/27/2025-17:31:04] [TRT] [I] Opset version:    19\n",
      "[03/27/2025-17:31:04] [TRT] [I] Producer name:    pytorch\n",
      "[03/27/2025-17:31:04] [TRT] [I] Producer version: 2.6.0\n",
      "[03/27/2025-17:31:04] [TRT] [I] Domain:           \n",
      "[03/27/2025-17:31:04] [TRT] [I] Model version:    0\n",
      "[03/27/2025-17:31:04] [TRT] [I] Doc string:       \n",
      "[03/27/2025-17:31:04] [TRT] [I] ----------------------------------------------------------------\n",
      "\u001b[34m\u001b[1mTensorRT:\u001b[0m input \"images\" with shape(-1, 3, -1, -1) DataType.FLOAT\n",
      "\u001b[34m\u001b[1mTensorRT:\u001b[0m output \"output0\" with shape(-1, 30, -1) DataType.FLOAT\n",
      "\u001b[34m\u001b[1mTensorRT:\u001b[0m WARNING ⚠️ 'dynamic=True' model requires max batch size, i.e. 'batch=16'\n",
      "\u001b[34m\u001b[1mTensorRT:\u001b[0m building FP32 engine as /home/dim/clone_repo/BrickSearch/outputs/output_models/y12m_100_640_c_10_10_05/weights/best.engine\n",
      "[03/27/2025-17:31:04] [TRT] [I] Local timing cache in use. Profiling results in this builder pass will not be stored.\n",
      "[03/27/2025-17:31:39] [TRT] [I] Compiler backend is used during engine build.\n",
      "[03/27/2025-17:32:29] [TRT] [I] [GraphReduction] The approximate region cut reduction algorithm is called.\n",
      "[03/27/2025-17:32:29] [TRT] [I] Detected 1 inputs and 1 output network tensors.\n",
      "[03/27/2025-17:32:31] [TRT] [I] Total Host Persistent Memory: 789824 bytes\n",
      "[03/27/2025-17:32:31] [TRT] [I] Total Device Persistent Memory: 0 bytes\n",
      "[03/27/2025-17:32:31] [TRT] [I] Max Scratch Memory: 45875200 bytes\n",
      "[03/27/2025-17:32:31] [TRT] [I] [BlockAssignment] Started assigning block shifts. This will take 387 steps to complete.\n",
      "[03/27/2025-17:32:31] [TRT] [I] [BlockAssignment] Algorithm ShiftNTopDown took 46.3335ms to assign 11 blocks to 387 nodes requiring 97075712 bytes.\n",
      "[03/27/2025-17:32:31] [TRT] [I] Total Activation Memory: 97075200 bytes\n",
      "[03/27/2025-17:32:31] [TRT] [I] Total Weights Memory: 88546184 bytes\n",
      "[03/27/2025-17:32:31] [TRT] [I] Compiler backend is used during engine execution.\n",
      "[03/27/2025-17:32:31] [TRT] [I] Engine generation completed in 87.2691 seconds.\n",
      "[03/27/2025-17:32:31] [TRT] [I] [MemUsageStats] Peak memory usage of TRT CPU/GPU memory allocators: CPU 9 MiB, GPU 200 MiB\n",
      "\u001b[34m\u001b[1mTensorRT:\u001b[0m export success ✅ 119.4s, saved as '/home/dim/clone_repo/BrickSearch/outputs/output_models/y12m_100_640_c_10_10_05/weights/best.engine' (95.5 MB)\n",
      "\n",
      "Export complete (113.5s)\n",
      "Results saved to \u001b[1m/home/dim/clone_repo/BrickSearch/outputs/output_models/y12m_100_640_c_10_10_05/weights\u001b[0m\n",
      "Predict:         yolo predict task=detect model=/home/dim/clone_repo/BrickSearch/outputs/output_models/y12m_100_640_c_10_10_05/weights/best.engine imgsz=640  \n",
      "Validate:        yolo val task=detect model=/home/dim/clone_repo/BrickSearch/outputs/output_models/y12m_100_640_c_10_10_05/weights/best.engine imgsz=640 data=/home/dim/clone_repo/BrickSearch/data/dataset/data.yaml  \n",
      "Visualize:       https://netron.app\n"
     ]
    },
    {
     "data": {
      "text/plain": [
       "'/home/dim/clone_repo/BrickSearch/outputs/output_models/y12m_100_640_c_10_10_05/weights/best.engine'"
      ]
     },
     "execution_count": 2,
     "metadata": {},
     "output_type": "execute_result"
    }
   ],
   "source": [
    "## exportation en .onnx et .engine pour le deploiement\n",
    "\n",
    "# model_name = \"y12m_100_640_c_10_10_05\"\n",
    "\n",
    "model = YOLO(f'/home/dim/clone_repo/BrickSearch/outputs/output_models/{model_name}/weights/best.pt') \n",
    "\n",
    "model.export(format=\"engine\", dynamic=True)"
   ]
  },
  {
   "cell_type": "code",
   "execution_count": null,
   "metadata": {},
   "outputs": [],
   "source": [
    "# model = YOLO(f'/home/dim/clone_repo/BrickSearch/outputs/output_models/{model_name}/weights/best.pt')  \n",
    "\n",
    "# # Export the model\n",
    "# model.export(format=\"onnx\", dynamic=True)\n"
   ]
  }
 ],
 "metadata": {
  "kernelspec": {
   "display_name": ".venv",
   "language": "python",
   "name": "python3"
  },
  "language_info": {
   "codemirror_mode": {
    "name": "ipython",
    "version": 3
   },
   "file_extension": ".py",
   "mimetype": "text/x-python",
   "name": "python",
   "nbconvert_exporter": "python",
   "pygments_lexer": "ipython3",
   "version": "3.13.1"
  }
 },
 "nbformat": 4,
 "nbformat_minor": 2
}
