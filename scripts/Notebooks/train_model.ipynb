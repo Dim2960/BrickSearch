{
 "cells": [
  {
   "cell_type": "code",
   "execution_count": 20,
   "metadata": {},
   "outputs": [],
   "source": [
    "from ultralytics import YOLO"
   ]
  },
  {
   "cell_type": "code",
   "execution_count": 21,
   "metadata": {},
   "outputs": [],
   "source": [
    "path_model = \"/home/dim/clone_repo/BrickSearch/data/model/yolo12x.pt\"\n",
    "\n",
    "# path_model = \"/home/dim/clone_repo/BrickSearch/data/model/yolo11x.pt\"\n",
    "\n",
    "# path_model = \"/home/dim/clone_repo/BrickSearch/data/model/yolo11n.pt\""
   ]
  },
  {
   "cell_type": "code",
   "execution_count": 22,
   "metadata": {},
   "outputs": [
    {
     "name": "stdout",
     "output_type": "stream",
     "text": [
      "New https://pypi.org/project/ultralytics/8.3.97 available 😃 Update with 'pip install -U ultralytics'\n",
      "Ultralytics 8.3.96 🚀 Python-3.13.1 torch-2.6.0+cu124 CUDA:0 (NVIDIA GeForce RTX 3060, 12288MiB)\n",
      "\u001b[34m\u001b[1mengine/trainer: \u001b[0mtask=detect, mode=train, model=/home/dim/clone_repo/BrickSearch/data/model/yolo12x.pt, data=/home/dim/clone_repo/BrickSearch/data/dataset/data.yaml, epochs=2, time=None, patience=100, batch=16, imgsz=640, save=True, save_period=-1, cache=False, device=0, workers=8, project=/home/dim/clone_repo/BrickSearch/outputs/output_models, name=No_name_model2, exist_ok=False, pretrained=True, optimizer=auto, verbose=True, seed=0, deterministic=True, single_cls=False, rect=False, cos_lr=False, close_mosaic=10, resume=False, amp=True, fraction=1.0, profile=False, freeze=None, multi_scale=False, overlap_mask=True, mask_ratio=4, dropout=0.0, val=True, split=val, save_json=False, save_hybrid=False, conf=None, iou=0.65, max_det=3000, half=False, dnn=False, plots=True, source=None, vid_stride=1, stream_buffer=False, visualize=False, augment=False, agnostic_nms=False, classes=None, retina_masks=False, embed=None, show=False, save_frames=False, save_txt=False, save_conf=False, save_crop=False, show_labels=True, show_conf=True, show_boxes=True, line_width=None, format=torchscript, keras=False, optimize=False, int8=False, dynamic=False, simplify=True, opset=None, workspace=None, nms=False, lr0=0.01, lrf=0.01, momentum=0.937, weight_decay=0.0005, warmup_epochs=3.0, warmup_momentum=0.8, warmup_bias_lr=0.1, box=7.5, cls=0.5, dfl=1.5, pose=12.0, kobj=1.0, nbs=64, hsv_h=0.015, hsv_s=0.7, hsv_v=0.4, degrees=0.0, translate=0.1, scale=0.5, shear=0.0, perspective=0.0, flipud=0.0, fliplr=0.5, bgr=0.0, mosaic=1.0, mixup=0.0, copy_paste=0.0, copy_paste_mode=flip, auto_augment=randaugment, erasing=0.4, crop_fraction=1.0, cfg=None, tracker=botsort.yaml, save_dir=/home/dim/clone_repo/BrickSearch/outputs/output_models/No_name_model2\n",
      "Overriding model.yaml nc=80 with nc=26\n",
      "\n",
      "                   from  n    params  module                                       arguments                     \n",
      "  0                  -1  1      2784  ultralytics.nn.modules.conv.Conv             [3, 96, 3, 2]                 \n",
      "  1                  -1  1    166272  ultralytics.nn.modules.conv.Conv             [96, 192, 3, 2]               \n",
      "  2                  -1  2    389760  ultralytics.nn.modules.block.C3k2            [192, 384, 2, True, 0.25]     \n",
      "  3                  -1  1   1327872  ultralytics.nn.modules.conv.Conv             [384, 384, 3, 2]              \n",
      "  4                  -1  2   1553664  ultralytics.nn.modules.block.C3k2            [384, 768, 2, True, 0.25]     \n",
      "  5                  -1  1   5309952  ultralytics.nn.modules.conv.Conv             [768, 768, 3, 2]              \n",
      "  6                  -1  4   9512128  ultralytics.nn.modules.block.A2C2f           [768, 768, 4, True, 4, True, 1.2]\n",
      "  7                  -1  1   5309952  ultralytics.nn.modules.conv.Conv             [768, 768, 3, 2]              \n",
      "  8                  -1  4   9512128  ultralytics.nn.modules.block.A2C2f           [768, 768, 4, True, 1, True, 1.2]\n",
      "  9                  -1  1         0  torch.nn.modules.upsampling.Upsample         [None, 2, 'nearest']          \n",
      " 10             [-1, 6]  1         0  ultralytics.nn.modules.conv.Concat           [1]                           \n",
      " 11                  -1  2   4727040  ultralytics.nn.modules.block.A2C2f           [1536, 768, 2, False, -1, True, 1.2]\n",
      " 12                  -1  1         0  torch.nn.modules.upsampling.Upsample         [None, 2, 'nearest']          \n",
      " 13             [-1, 4]  1         0  ultralytics.nn.modules.conv.Concat           [1]                           \n",
      " 14                  -1  2   1331328  ultralytics.nn.modules.block.A2C2f           [1536, 384, 2, False, -1, True, 1.2]\n",
      " 15                  -1  1   1327872  ultralytics.nn.modules.conv.Conv             [384, 384, 3, 2]              \n",
      " 16            [-1, 11]  1         0  ultralytics.nn.modules.conv.Concat           [1]                           \n",
      " 17                  -1  2   4579584  ultralytics.nn.modules.block.A2C2f           [1152, 768, 2, False, -1, True, 1.2]\n",
      " 18                  -1  1   5309952  ultralytics.nn.modules.conv.Conv             [768, 768, 3, 2]              \n",
      " 19             [-1, 8]  1         0  ultralytics.nn.modules.conv.Concat           [1]                           \n",
      " 20                  -1  2   5612544  ultralytics.nn.modules.block.C3k2            [1536, 768, 2, True]          \n",
      " 21        [14, 17, 20]  1   3175582  ultralytics.nn.modules.head.Detect           [26, [384, 768, 768]]         \n",
      "YOLOv12x summary: 488 layers, 59,148,414 parameters, 59,148,398 gradients, 200.0 GFLOPs\n",
      "\n",
      "Transferred 1239/1245 items from pretrained weights\n",
      "Freezing layer 'model.21.dfl.conv.weight'\n",
      "\u001b[34m\u001b[1mAMP: \u001b[0mrunning Automatic Mixed Precision (AMP) checks...\n",
      "\u001b[34m\u001b[1mAMP: \u001b[0mchecks passed ✅\n"
     ]
    },
    {
     "name": "stderr",
     "output_type": "stream",
     "text": [
      "\u001b[34m\u001b[1mtrain: \u001b[0mScanning /home/dim/clone_repo/BrickSearch/data/dataset/train/labels.cache... 6 images, 0 backgrounds, 0 corrupt: 100%|██████████| 6/6 [00:00<?, ?it/s]\n",
      "\u001b[34m\u001b[1mval: \u001b[0mScanning /home/dim/clone_repo/BrickSearch/data/dataset/val/labels.cache... 2 images, 0 backgrounds, 0 corrupt: 100%|██████████| 2/2 [00:00<?, ?it/s]\n"
     ]
    },
    {
     "name": "stdout",
     "output_type": "stream",
     "text": [
      "Plotting labels to /home/dim/clone_repo/BrickSearch/outputs/output_models/No_name_model2/labels.jpg... \n",
      "\u001b[34m\u001b[1moptimizer:\u001b[0m 'optimizer=auto' found, ignoring 'lr0=0.01' and 'momentum=0.937' and determining best 'optimizer', 'lr0' and 'momentum' automatically... \n",
      "\u001b[34m\u001b[1moptimizer:\u001b[0m AdamW(lr=0.000333, momentum=0.9) with parameter groups 205 weight(decay=0.0), 214 weight(decay=0.0005), 211 bias(decay=0.0)\n",
      "Image sizes 640 train, 640 val\n",
      "Using 8 dataloader workers\n",
      "Logging results to \u001b[1m/home/dim/clone_repo/BrickSearch/outputs/output_models/No_name_model2\u001b[0m\n",
      "Starting training for 2 epochs...\n",
      "\n",
      "      Epoch    GPU_mem   box_loss   cls_loss   dfl_loss  Instances       Size\n"
     ]
    },
    {
     "name": "stderr",
     "output_type": "stream",
     "text": [
      "        1/2      10.5G      2.058      5.079      1.416        562        640: 100%|██████████| 1/1 [00:00<00:00,  1.02it/s]\n",
      "                 Class     Images  Instances      Box(P          R      mAP50  mAP50-95): 100%|██████████| 1/1 [00:00<00:00,  3.77it/s]"
     ]
    },
    {
     "name": "stdout",
     "output_type": "stream",
     "text": [
      "                   all          2        116    0.00973     0.0733     0.0226     0.0124\n"
     ]
    },
    {
     "name": "stderr",
     "output_type": "stream",
     "text": [
      "\n"
     ]
    },
    {
     "name": "stdout",
     "output_type": "stream",
     "text": [
      "\n",
      "      Epoch    GPU_mem   box_loss   cls_loss   dfl_loss  Instances       Size\n"
     ]
    },
    {
     "name": "stderr",
     "output_type": "stream",
     "text": [
      "        2/2      10.5G      2.102      5.099      1.423        555        640: 100%|██████████| 1/1 [00:00<00:00,  1.39it/s]\n",
      "                 Class     Images  Instances      Box(P          R      mAP50  mAP50-95): 100%|██████████| 1/1 [00:00<00:00, 13.23it/s]"
     ]
    },
    {
     "name": "stdout",
     "output_type": "stream",
     "text": [
      "                   all          2        116    0.00982     0.0733     0.0209     0.0113\n"
     ]
    },
    {
     "name": "stderr",
     "output_type": "stream",
     "text": [
      "\n"
     ]
    },
    {
     "name": "stdout",
     "output_type": "stream",
     "text": [
      "\n",
      "2 epochs completed in 0.001 hours.\n",
      "Optimizer stripped from /home/dim/clone_repo/BrickSearch/outputs/output_models/No_name_model2/weights/last.pt, 119.1MB\n",
      "Optimizer stripped from /home/dim/clone_repo/BrickSearch/outputs/output_models/No_name_model2/weights/best.pt, 119.1MB\n",
      "\n",
      "Validating /home/dim/clone_repo/BrickSearch/outputs/output_models/No_name_model2/weights/best.pt...\n",
      "Ultralytics 8.3.96 🚀 Python-3.13.1 torch-2.6.0+cu124 CUDA:0 (NVIDIA GeForce RTX 3060, 12288MiB)\n",
      "YOLOv12x summary (fused): 283 layers, 59,073,374 parameters, 0 gradients, 198.7 GFLOPs\n"
     ]
    },
    {
     "name": "stderr",
     "output_type": "stream",
     "text": [
      "                 Class     Images  Instances      Box(P          R      mAP50  mAP50-95): 100%|██████████| 1/1 [00:00<00:00,  9.81it/s]\n"
     ]
    },
    {
     "name": "stdout",
     "output_type": "stream",
     "text": [
      "                   all          2        116    0.00973     0.0733     0.0226     0.0124\n",
      "             1x2_Blanc          2          6          0          0          0          0\n",
      "              1x2_Bleu          2         11          0          0          0          0\n",
      "             1x2_Jaune          2          7          0          0          0          0\n",
      "            1x2_Marron          2          2          0          0          0          0\n",
      "              1x2_Noir          2          4          0          0          0          0\n",
      "             1x2_Rouge          2          6          0          0          0          0\n",
      "        1x2_Vert clear          1          1          0          0          0          0\n",
      "         1x2_Vert dark          2          3          0          0          0          0\n",
      "             1x4_Blanc          2          2     0.0204          1      0.331      0.149\n",
      "             1x4_Jaune          2          6          0          0          0          0\n",
      "              1x4_Noir          1          1          0          0          0          0\n",
      "             1x4_Rouge          2          4          0          0          0          0\n",
      "        1x4_Vert clear          1          1          0          0          0          0\n",
      "             2x2_Blanc          2          5          0          0          0          0\n",
      "              2x2_Bleu          2         10          0          0          0          0\n",
      "             2x2_Jaune          2          6          0          0          0          0\n",
      "            2x2_Marron          2          2          0          0          0          0\n",
      "             2x2_Rouge          2          5          0          0          0          0\n",
      "        2x2_Vert clear          2          3          0          0          0          0\n",
      "         2x2_Vert dark          2          3     0.0227      0.333      0.018      0.009\n",
      "             2x4_Blanc          2          6          0          0          0          0\n",
      "              2x4_Bleu          2          2        0.2        0.5      0.216      0.151\n",
      "             2x4_Jaune          2         12          0          0          0          0\n",
      "             2x4_Rouge          2          6          0          0          0          0\n",
      "         2x4_Vert dark          2          2          0          0          0          0\n",
      "Speed: 0.5ms preprocess, 37.3ms inference, 0.0ms loss, 1.8ms postprocess per image\n",
      "Results saved to \u001b[1m/home/dim/clone_repo/BrickSearch/outputs/output_models/No_name_model2\u001b[0m\n"
     ]
    }
   ],
   "source": [
    "\n",
    "# Chargement du modele pré-entrainé\n",
    "model = YOLO(path_model)\n",
    "\n",
    "\n",
    "# Entrainement du modele avec le données labelisées \n",
    "path_dataYaml = \"/home/dim/clone_repo/BrickSearch/data/dataset/data.yaml\"\n",
    "path_model_output = \"/home/dim/clone_repo/BrickSearch/outputs/output_models\"\n",
    "model_name = \"No_name_model\" # nom du modele par défaut\n",
    "\n",
    "# demande de saisir un nom de model pour l'entrainnement\n",
    "model_name_temp = input(\"Entrez le nom du modele : \")\n",
    "if model_name_temp != \"\":\n",
    "    model_name = model_name_temp\n",
    "    print(f\"Nom du modèle : {model_name}\")\n",
    "\n",
    "results = model.train( \n",
    "                            data=path_dataYaml, \n",
    "                            epochs=2,\n",
    "                            imgsz=640,\n",
    "                            max_det=3000,\n",
    "                            batch=16,\n",
    "                            device=\"0\",\n",
    "                            iou= 0.65, \n",
    "                            half=False,\n",
    "                            plots=True,\n",
    "                            project=path_model_output, \n",
    "                            name=model_name\n",
    "                        )"
   ]
  }
 ],
 "metadata": {
  "kernelspec": {
   "display_name": ".venv",
   "language": "python",
   "name": "python3"
  },
  "language_info": {
   "codemirror_mode": {
    "name": "ipython",
    "version": 3
   },
   "file_extension": ".py",
   "mimetype": "text/x-python",
   "name": "python",
   "nbconvert_exporter": "python",
   "pygments_lexer": "ipython3",
   "version": "3.13.1"
  }
 },
 "nbformat": 4,
 "nbformat_minor": 2
}
